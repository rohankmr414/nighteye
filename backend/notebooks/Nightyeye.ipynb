{
  "nbformat": 4,
  "nbformat_minor": 0,
  "metadata": {
    "colab": {
      "name": "Nightyeye.ipynb",
      "provenance": []
    },
    "kernelspec": {
      "name": "python3",
      "display_name": "Python 3"
    },
    "language_info": {
      "name": "python"
    }
  },
  "cells": [
    {
      "cell_type": "code",
      "source": [
        "import math\n",
        "import numpy as np\n",
        "import pandas as pd\n",
        "import datetime as dt\n",
        "from sklearn.preprocessing import MinMaxScaler\n",
        "import tensorflow as tf\n",
        "from tensorflow.keras.models import Sequential\n",
        "from tensorflow.keras.layers import Dense, LSTM\n",
        "import matplotlib.pyplot as plt"
      ],
      "metadata": {
        "id": "qyRKM68NHjy7"
      },
      "execution_count": 51,
      "outputs": []
    },
    {
      "cell_type": "markdown",
      "source": [
        "### Data collection"
      ],
      "metadata": {
        "id": "s1s0U1m6_7RE"
      }
    },
    {
      "cell_type": "code",
      "source": [
        "from google.colab import files\n",
        "\n",
        "uploaded = files.upload()"
      ],
      "metadata": {
        "colab": {
          "resources": {
            "http://localhost:8080/nbextensions/google.colab/files.js": {
              "data": "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",
              "ok": true,
              "headers": [
                [
                  "content-type",
                  "application/javascript"
                ]
              ],
              "status": 200,
              "status_text": ""
            }
          },
          "base_uri": "https://localhost:8080/",
          "height": 73
        },
        "id": "iHKY4gh0KaWU",
        "outputId": "5ff1cf9d-30e9-4e3b-f53a-0ff2d28fc1bb"
      },
      "execution_count": 14,
      "outputs": [
        {
          "output_type": "display_data",
          "data": {
            "text/html": [
              "\n",
              "     <input type=\"file\" id=\"files-98ca276c-1bc7-46d9-87bd-fe337e7a16d7\" name=\"files[]\" multiple disabled\n",
              "        style=\"border:none\" />\n",
              "     <output id=\"result-98ca276c-1bc7-46d9-87bd-fe337e7a16d7\">\n",
              "      Upload widget is only available when the cell has been executed in the\n",
              "      current browser session. Please rerun this cell to enable.\n",
              "      </output>\n",
              "      <script src=\"/nbextensions/google.colab/files.js\"></script> "
            ],
            "text/plain": [
              "<IPython.core.display.HTML object>"
            ]
          },
          "metadata": {}
        },
        {
          "output_type": "stream",
          "name": "stdout",
          "text": [
            "Saving bitcoin2018-nov2021binance.csv to bitcoin2018-nov2021binance.csv\n"
          ]
        }
      ]
    },
    {
      "cell_type": "code",
      "source": [
        "df = pd.read_csv('/content/bitcoin2018-nov2021binance.csv')\n",
        "df.head()"
      ],
      "metadata": {
        "colab": {
          "base_uri": "https://localhost:8080/",
          "height": 206
        },
        "id": "UHgaQsnOOgCP",
        "outputId": "be684e3e-1ad8-4412-9541-5b6675c3b78c"
      },
      "execution_count": 94,
      "outputs": [
        {
          "output_type": "execute_result",
          "data": {
            "text/html": [
              "\n",
              "  <div id=\"df-196d0e2f-458e-4e07-8a57-d5371e8a7aeb\">\n",
              "    <div class=\"colab-df-container\">\n",
              "      <div>\n",
              "<style scoped>\n",
              "    .dataframe tbody tr th:only-of-type {\n",
              "        vertical-align: middle;\n",
              "    }\n",
              "\n",
              "    .dataframe tbody tr th {\n",
              "        vertical-align: top;\n",
              "    }\n",
              "\n",
              "    .dataframe thead th {\n",
              "        text-align: right;\n",
              "    }\n",
              "</style>\n",
              "<table border=\"1\" class=\"dataframe\">\n",
              "  <thead>\n",
              "    <tr style=\"text-align: right;\">\n",
              "      <th></th>\n",
              "      <th>open</th>\n",
              "      <th>high</th>\n",
              "      <th>low</th>\n",
              "      <th>close</th>\n",
              "      <th>volume</th>\n",
              "      <th>period</th>\n",
              "    </tr>\n",
              "  </thead>\n",
              "  <tbody>\n",
              "    <tr>\n",
              "      <th>0</th>\n",
              "      <td>13715.65</td>\n",
              "      <td>13818.55</td>\n",
              "      <td>12750.00</td>\n",
              "      <td>13380.00</td>\n",
              "      <td>8609.915844</td>\n",
              "      <td>1514764800000</td>\n",
              "    </tr>\n",
              "    <tr>\n",
              "      <th>1</th>\n",
              "      <td>13382.16</td>\n",
              "      <td>15473.49</td>\n",
              "      <td>12890.02</td>\n",
              "      <td>14675.11</td>\n",
              "      <td>20078.092111</td>\n",
              "      <td>1514851200000</td>\n",
              "    </tr>\n",
              "    <tr>\n",
              "      <th>2</th>\n",
              "      <td>14690.00</td>\n",
              "      <td>15307.56</td>\n",
              "      <td>14150.00</td>\n",
              "      <td>14919.51</td>\n",
              "      <td>15905.667639</td>\n",
              "      <td>1514937600000</td>\n",
              "    </tr>\n",
              "    <tr>\n",
              "      <th>3</th>\n",
              "      <td>14919.51</td>\n",
              "      <td>15280.00</td>\n",
              "      <td>13918.04</td>\n",
              "      <td>15059.54</td>\n",
              "      <td>21329.649574</td>\n",
              "      <td>1515024000000</td>\n",
              "    </tr>\n",
              "    <tr>\n",
              "      <th>4</th>\n",
              "      <td>15059.56</td>\n",
              "      <td>17176.24</td>\n",
              "      <td>14600.00</td>\n",
              "      <td>16960.39</td>\n",
              "      <td>23251.491125</td>\n",
              "      <td>1515110400000</td>\n",
              "    </tr>\n",
              "  </tbody>\n",
              "</table>\n",
              "</div>\n",
              "      <button class=\"colab-df-convert\" onclick=\"convertToInteractive('df-196d0e2f-458e-4e07-8a57-d5371e8a7aeb')\"\n",
              "              title=\"Convert this dataframe to an interactive table.\"\n",
              "              style=\"display:none;\">\n",
              "        \n",
              "  <svg xmlns=\"http://www.w3.org/2000/svg\" height=\"24px\"viewBox=\"0 0 24 24\"\n",
              "       width=\"24px\">\n",
              "    <path d=\"M0 0h24v24H0V0z\" fill=\"none\"/>\n",
              "    <path d=\"M18.56 5.44l.94 2.06.94-2.06 2.06-.94-2.06-.94-.94-2.06-.94 2.06-2.06.94zm-11 1L8.5 8.5l.94-2.06 2.06-.94-2.06-.94L8.5 2.5l-.94 2.06-2.06.94zm10 10l.94 2.06.94-2.06 2.06-.94-2.06-.94-.94-2.06-.94 2.06-2.06.94z\"/><path d=\"M17.41 7.96l-1.37-1.37c-.4-.4-.92-.59-1.43-.59-.52 0-1.04.2-1.43.59L10.3 9.45l-7.72 7.72c-.78.78-.78 2.05 0 2.83L4 21.41c.39.39.9.59 1.41.59.51 0 1.02-.2 1.41-.59l7.78-7.78 2.81-2.81c.8-.78.8-2.07 0-2.86zM5.41 20L4 18.59l7.72-7.72 1.47 1.35L5.41 20z\"/>\n",
              "  </svg>\n",
              "      </button>\n",
              "      \n",
              "  <style>\n",
              "    .colab-df-container {\n",
              "      display:flex;\n",
              "      flex-wrap:wrap;\n",
              "      gap: 12px;\n",
              "    }\n",
              "\n",
              "    .colab-df-convert {\n",
              "      background-color: #E8F0FE;\n",
              "      border: none;\n",
              "      border-radius: 50%;\n",
              "      cursor: pointer;\n",
              "      display: none;\n",
              "      fill: #1967D2;\n",
              "      height: 32px;\n",
              "      padding: 0 0 0 0;\n",
              "      width: 32px;\n",
              "    }\n",
              "\n",
              "    .colab-df-convert:hover {\n",
              "      background-color: #E2EBFA;\n",
              "      box-shadow: 0px 1px 2px rgba(60, 64, 67, 0.3), 0px 1px 3px 1px rgba(60, 64, 67, 0.15);\n",
              "      fill: #174EA6;\n",
              "    }\n",
              "\n",
              "    [theme=dark] .colab-df-convert {\n",
              "      background-color: #3B4455;\n",
              "      fill: #D2E3FC;\n",
              "    }\n",
              "\n",
              "    [theme=dark] .colab-df-convert:hover {\n",
              "      background-color: #434B5C;\n",
              "      box-shadow: 0px 1px 3px 1px rgba(0, 0, 0, 0.15);\n",
              "      filter: drop-shadow(0px 1px 2px rgba(0, 0, 0, 0.3));\n",
              "      fill: #FFFFFF;\n",
              "    }\n",
              "  </style>\n",
              "\n",
              "      <script>\n",
              "        const buttonEl =\n",
              "          document.querySelector('#df-196d0e2f-458e-4e07-8a57-d5371e8a7aeb button.colab-df-convert');\n",
              "        buttonEl.style.display =\n",
              "          google.colab.kernel.accessAllowed ? 'block' : 'none';\n",
              "\n",
              "        async function convertToInteractive(key) {\n",
              "          const element = document.querySelector('#df-196d0e2f-458e-4e07-8a57-d5371e8a7aeb');\n",
              "          const dataTable =\n",
              "            await google.colab.kernel.invokeFunction('convertToInteractive',\n",
              "                                                     [key], {});\n",
              "          if (!dataTable) return;\n",
              "\n",
              "          const docLinkHtml = 'Like what you see? Visit the ' +\n",
              "            '<a target=\"_blank\" href=https://colab.research.google.com/notebooks/data_table.ipynb>data table notebook</a>'\n",
              "            + ' to learn more about interactive tables.';\n",
              "          element.innerHTML = '';\n",
              "          dataTable['output_type'] = 'display_data';\n",
              "          await google.colab.output.renderOutput(dataTable, element);\n",
              "          const docLink = document.createElement('div');\n",
              "          docLink.innerHTML = docLinkHtml;\n",
              "          element.appendChild(docLink);\n",
              "        }\n",
              "      </script>\n",
              "    </div>\n",
              "  </div>\n",
              "  "
            ],
            "text/plain": [
              "       open      high       low     close        volume         period\n",
              "0  13715.65  13818.55  12750.00  13380.00   8609.915844  1514764800000\n",
              "1  13382.16  15473.49  12890.02  14675.11  20078.092111  1514851200000\n",
              "2  14690.00  15307.56  14150.00  14919.51  15905.667639  1514937600000\n",
              "3  14919.51  15280.00  13918.04  15059.54  21329.649574  1515024000000\n",
              "4  15059.56  17176.24  14600.00  16960.39  23251.491125  1515110400000"
            ]
          },
          "metadata": {},
          "execution_count": 94
        }
      ]
    },
    {
      "cell_type": "code",
      "source": [
        "time = []\n",
        "def convert_int_timestamp():\n",
        "    for i in df['period']:\n",
        "        time.append(dt.datetime.fromtimestamp(i / 1e3))\n",
        "\n",
        "convert_int_timestamp()"
      ],
      "metadata": {
        "id": "frM0ndjwQSV8"
      },
      "execution_count": 33,
      "outputs": []
    },
    {
      "cell_type": "code",
      "source": [
        "time[:10]"
      ],
      "metadata": {
        "colab": {
          "base_uri": "https://localhost:8080/"
        },
        "id": "6Z58ejyzRoyk",
        "outputId": "5d79b5a0-527f-492f-ffe6-963f36c0db12"
      },
      "execution_count": 34,
      "outputs": [
        {
          "output_type": "execute_result",
          "data": {
            "text/plain": [
              "[datetime.datetime(2018, 1, 1, 0, 0),\n",
              " datetime.datetime(2018, 1, 2, 0, 0),\n",
              " datetime.datetime(2018, 1, 3, 0, 0),\n",
              " datetime.datetime(2018, 1, 4, 0, 0),\n",
              " datetime.datetime(2018, 1, 5, 0, 0),\n",
              " datetime.datetime(2018, 1, 6, 0, 0),\n",
              " datetime.datetime(2018, 1, 7, 0, 0),\n",
              " datetime.datetime(2018, 1, 8, 0, 0),\n",
              " datetime.datetime(2018, 1, 9, 0, 0),\n",
              " datetime.datetime(2018, 1, 10, 0, 0)]"
            ]
          },
          "metadata": {},
          "execution_count": 34
        }
      ]
    },
    {
      "cell_type": "code",
      "source": [
        "df['date'] = pd.to_datetime(df['period'], unit='ms')"
      ],
      "metadata": {
        "id": "aSOBR2NJRxVl"
      },
      "execution_count": 47,
      "outputs": []
    },
    {
      "cell_type": "code",
      "source": [
        "df.head()"
      ],
      "metadata": {
        "colab": {
          "base_uri": "https://localhost:8080/",
          "height": 206
        },
        "id": "jebviGyhU2_w",
        "outputId": "50097f0a-a6d0-4827-b546-7ffaae2f4693"
      },
      "execution_count": 48,
      "outputs": [
        {
          "output_type": "execute_result",
          "data": {
            "text/html": [
              "\n",
              "  <div id=\"df-81ce97e1-1067-4e9d-9ed2-570c36d09f20\">\n",
              "    <div class=\"colab-df-container\">\n",
              "      <div>\n",
              "<style scoped>\n",
              "    .dataframe tbody tr th:only-of-type {\n",
              "        vertical-align: middle;\n",
              "    }\n",
              "\n",
              "    .dataframe tbody tr th {\n",
              "        vertical-align: top;\n",
              "    }\n",
              "\n",
              "    .dataframe thead th {\n",
              "        text-align: right;\n",
              "    }\n",
              "</style>\n",
              "<table border=\"1\" class=\"dataframe\">\n",
              "  <thead>\n",
              "    <tr style=\"text-align: right;\">\n",
              "      <th></th>\n",
              "      <th>open</th>\n",
              "      <th>high</th>\n",
              "      <th>low</th>\n",
              "      <th>close</th>\n",
              "      <th>volume</th>\n",
              "      <th>period</th>\n",
              "      <th>date</th>\n",
              "    </tr>\n",
              "  </thead>\n",
              "  <tbody>\n",
              "    <tr>\n",
              "      <th>0</th>\n",
              "      <td>13715.65</td>\n",
              "      <td>13818.55</td>\n",
              "      <td>12750.00</td>\n",
              "      <td>13380.00</td>\n",
              "      <td>8609.915844</td>\n",
              "      <td>1514764800000</td>\n",
              "      <td>2018-01-01</td>\n",
              "    </tr>\n",
              "    <tr>\n",
              "      <th>1</th>\n",
              "      <td>13382.16</td>\n",
              "      <td>15473.49</td>\n",
              "      <td>12890.02</td>\n",
              "      <td>14675.11</td>\n",
              "      <td>20078.092111</td>\n",
              "      <td>1514851200000</td>\n",
              "      <td>2018-01-02</td>\n",
              "    </tr>\n",
              "    <tr>\n",
              "      <th>2</th>\n",
              "      <td>14690.00</td>\n",
              "      <td>15307.56</td>\n",
              "      <td>14150.00</td>\n",
              "      <td>14919.51</td>\n",
              "      <td>15905.667639</td>\n",
              "      <td>1514937600000</td>\n",
              "      <td>2018-01-03</td>\n",
              "    </tr>\n",
              "    <tr>\n",
              "      <th>3</th>\n",
              "      <td>14919.51</td>\n",
              "      <td>15280.00</td>\n",
              "      <td>13918.04</td>\n",
              "      <td>15059.54</td>\n",
              "      <td>21329.649574</td>\n",
              "      <td>1515024000000</td>\n",
              "      <td>2018-01-04</td>\n",
              "    </tr>\n",
              "    <tr>\n",
              "      <th>4</th>\n",
              "      <td>15059.56</td>\n",
              "      <td>17176.24</td>\n",
              "      <td>14600.00</td>\n",
              "      <td>16960.39</td>\n",
              "      <td>23251.491125</td>\n",
              "      <td>1515110400000</td>\n",
              "      <td>2018-01-05</td>\n",
              "    </tr>\n",
              "  </tbody>\n",
              "</table>\n",
              "</div>\n",
              "      <button class=\"colab-df-convert\" onclick=\"convertToInteractive('df-81ce97e1-1067-4e9d-9ed2-570c36d09f20')\"\n",
              "              title=\"Convert this dataframe to an interactive table.\"\n",
              "              style=\"display:none;\">\n",
              "        \n",
              "  <svg xmlns=\"http://www.w3.org/2000/svg\" height=\"24px\"viewBox=\"0 0 24 24\"\n",
              "       width=\"24px\">\n",
              "    <path d=\"M0 0h24v24H0V0z\" fill=\"none\"/>\n",
              "    <path d=\"M18.56 5.44l.94 2.06.94-2.06 2.06-.94-2.06-.94-.94-2.06-.94 2.06-2.06.94zm-11 1L8.5 8.5l.94-2.06 2.06-.94-2.06-.94L8.5 2.5l-.94 2.06-2.06.94zm10 10l.94 2.06.94-2.06 2.06-.94-2.06-.94-.94-2.06-.94 2.06-2.06.94z\"/><path d=\"M17.41 7.96l-1.37-1.37c-.4-.4-.92-.59-1.43-.59-.52 0-1.04.2-1.43.59L10.3 9.45l-7.72 7.72c-.78.78-.78 2.05 0 2.83L4 21.41c.39.39.9.59 1.41.59.51 0 1.02-.2 1.41-.59l7.78-7.78 2.81-2.81c.8-.78.8-2.07 0-2.86zM5.41 20L4 18.59l7.72-7.72 1.47 1.35L5.41 20z\"/>\n",
              "  </svg>\n",
              "      </button>\n",
              "      \n",
              "  <style>\n",
              "    .colab-df-container {\n",
              "      display:flex;\n",
              "      flex-wrap:wrap;\n",
              "      gap: 12px;\n",
              "    }\n",
              "\n",
              "    .colab-df-convert {\n",
              "      background-color: #E8F0FE;\n",
              "      border: none;\n",
              "      border-radius: 50%;\n",
              "      cursor: pointer;\n",
              "      display: none;\n",
              "      fill: #1967D2;\n",
              "      height: 32px;\n",
              "      padding: 0 0 0 0;\n",
              "      width: 32px;\n",
              "    }\n",
              "\n",
              "    .colab-df-convert:hover {\n",
              "      background-color: #E2EBFA;\n",
              "      box-shadow: 0px 1px 2px rgba(60, 64, 67, 0.3), 0px 1px 3px 1px rgba(60, 64, 67, 0.15);\n",
              "      fill: #174EA6;\n",
              "    }\n",
              "\n",
              "    [theme=dark] .colab-df-convert {\n",
              "      background-color: #3B4455;\n",
              "      fill: #D2E3FC;\n",
              "    }\n",
              "\n",
              "    [theme=dark] .colab-df-convert:hover {\n",
              "      background-color: #434B5C;\n",
              "      box-shadow: 0px 1px 3px 1px rgba(0, 0, 0, 0.15);\n",
              "      filter: drop-shadow(0px 1px 2px rgba(0, 0, 0, 0.3));\n",
              "      fill: #FFFFFF;\n",
              "    }\n",
              "  </style>\n",
              "\n",
              "      <script>\n",
              "        const buttonEl =\n",
              "          document.querySelector('#df-81ce97e1-1067-4e9d-9ed2-570c36d09f20 button.colab-df-convert');\n",
              "        buttonEl.style.display =\n",
              "          google.colab.kernel.accessAllowed ? 'block' : 'none';\n",
              "\n",
              "        async function convertToInteractive(key) {\n",
              "          const element = document.querySelector('#df-81ce97e1-1067-4e9d-9ed2-570c36d09f20');\n",
              "          const dataTable =\n",
              "            await google.colab.kernel.invokeFunction('convertToInteractive',\n",
              "                                                     [key], {});\n",
              "          if (!dataTable) return;\n",
              "\n",
              "          const docLinkHtml = 'Like what you see? Visit the ' +\n",
              "            '<a target=\"_blank\" href=https://colab.research.google.com/notebooks/data_table.ipynb>data table notebook</a>'\n",
              "            + ' to learn more about interactive tables.';\n",
              "          element.innerHTML = '';\n",
              "          dataTable['output_type'] = 'display_data';\n",
              "          await google.colab.output.renderOutput(dataTable, element);\n",
              "          const docLink = document.createElement('div');\n",
              "          docLink.innerHTML = docLinkHtml;\n",
              "          element.appendChild(docLink);\n",
              "        }\n",
              "      </script>\n",
              "    </div>\n",
              "  </div>\n",
              "  "
            ],
            "text/plain": [
              "       open      high       low  ...        volume         period       date\n",
              "0  13715.65  13818.55  12750.00  ...   8609.915844  1514764800000 2018-01-01\n",
              "1  13382.16  15473.49  12890.02  ...  20078.092111  1514851200000 2018-01-02\n",
              "2  14690.00  15307.56  14150.00  ...  15905.667639  1514937600000 2018-01-03\n",
              "3  14919.51  15280.00  13918.04  ...  21329.649574  1515024000000 2018-01-04\n",
              "4  15059.56  17176.24  14600.00  ...  23251.491125  1515110400000 2018-01-05\n",
              "\n",
              "[5 rows x 7 columns]"
            ]
          },
          "metadata": {},
          "execution_count": 48
        }
      ]
    },
    {
      "cell_type": "code",
      "source": [
        "df1 = df.reset_index()['close']\n",
        "\n",
        "df1"
      ],
      "metadata": {
        "colab": {
          "base_uri": "https://localhost:8080/"
        },
        "id": "olU54lDMXBu_",
        "outputId": "adcdba2a-58f5-4c00-ce09-e644b717d890"
      },
      "execution_count": 49,
      "outputs": [
        {
          "output_type": "execute_result",
          "data": {
            "text/plain": [
              "0       13380.00\n",
              "1       14675.11\n",
              "2       14919.51\n",
              "3       15059.54\n",
              "4       16960.39\n",
              "          ...   \n",
              "1380    60575.89\n",
              "1381    62253.71\n",
              "1382    61691.33\n",
              "1383    61299.80\n",
              "1384    60911.11\n",
              "Name: close, Length: 1385, dtype: float64"
            ]
          },
          "metadata": {},
          "execution_count": 49
        }
      ]
    },
    {
      "cell_type": "code",
      "source": [
        "plt.figure(figsize=(15,12))\n",
        "plt.plot(df1)"
      ],
      "metadata": {
        "colab": {
          "base_uri": "https://localhost:8080/",
          "height": 646
        },
        "id": "kSwmSDmkXG-5",
        "outputId": "1aea4b00-e6ad-48ef-fc4d-0b0d0e861ff6"
      },
      "execution_count": 53,
      "outputs": [
        {
          "output_type": "execute_result",
          "data": {
            "text/plain": [
              "[<matplotlib.lines.Line2D at 0x7fa4c5d2c410>]"
            ]
          },
          "metadata": {},
          "execution_count": 53
        },
        {
          "output_type": "display_data",
          "data": {
            "image/png": "[encoded data removed]",
            "text/plain": [
              "<Figure size 1080x864 with 1 Axes>"
            ]
          },
          "metadata": {}
        }
      ]
    },
    {
      "cell_type": "code",
      "source": [
        "scaler = MinMaxScaler(feature_range=(0, 1))\n",
        "df1 = scaler.fit_transform(np.array(df1).reshape(-1, 1))"
      ],
      "metadata": {
        "id": "LqVuzgYrXI-0"
      },
      "execution_count": 54,
      "outputs": []
    },
    {
      "cell_type": "code",
      "source": [
        "print(df1)"
      ],
      "metadata": {
        "colab": {
          "base_uri": "https://localhost:8080/"
        },
        "id": "NW-QhjuJX6LV",
        "outputId": "b703355b-d298-4859-93f3-d5cb1bda5bfc"
      },
      "execution_count": 55,
      "outputs": [
        {
          "output_type": "stream",
          "name": "stdout",
          "text": [
            "[[0.16194187]\n",
            " [0.18256803]\n",
            " [0.18646039]\n",
            " ...\n",
            " [0.93135688]\n",
            " [0.92512131]\n",
            " [0.91893096]]\n"
          ]
        }
      ]
    },
    {
      "cell_type": "code",
      "source": [
        "# Spitting dataset into train and test split\n",
        "\n",
        "training_size = int(len(df1)*0.80)\n",
        "\n",
        "test_size = len(df1) - training_size\n",
        "train_data, test_data = df1[0:training_size, : ], df1[training_size: len(df1), : 1]"
      ],
      "metadata": {
        "id": "2f1FYx8uX7zT"
      },
      "execution_count": 56,
      "outputs": []
    },
    {
      "cell_type": "code",
      "source": [
        "len(train_data), len(test_data)"
      ],
      "metadata": {
        "colab": {
          "base_uri": "https://localhost:8080/"
        },
        "id": "CL1MDZ4RaW-T",
        "outputId": "fcd5a79e-622e-4333-cd4b-c81408e5c780"
      },
      "execution_count": 57,
      "outputs": [
        {
          "output_type": "execute_result",
          "data": {
            "text/plain": [
              "(1108, 277)"
            ]
          },
          "metadata": {},
          "execution_count": 57
        }
      ]
    },
    {
      "cell_type": "code",
      "source": [
        "def create_dataset(dataset, time_step=1):\n",
        "    dataX, dataY = [], []\n",
        "    for i in range(len(dataset)-time_step-1):\n",
        "        a = dataset[i: (i+time_step), 0]\n",
        "        dataX.append(a)\n",
        "        dataY.append(dataset[i + time_step, 0])\n",
        "\n",
        "    return np.array(dataX), np.array(dataY)"
      ],
      "metadata": {
        "id": "tPzB8JPPacWV"
      },
      "execution_count": 58,
      "outputs": []
    },
    {
      "cell_type": "code",
      "source": [
        "time_step = 15\n",
        "X_train, y_train = create_dataset(train_data, time_step)"
      ],
      "metadata": {
        "id": "ROVe9acseRY5"
      },
      "execution_count": 59,
      "outputs": []
    },
    {
      "cell_type": "code",
      "source": [
        "print(X_train.shape), print(y_train.shape)"
      ],
      "metadata": {
        "colab": {
          "base_uri": "https://localhost:8080/"
        },
        "id": "_l979IvfeafR",
        "outputId": "37faa7b4-640c-44df-87bc-cea1fde48093"
      },
      "execution_count": 60,
      "outputs": [
        {
          "output_type": "stream",
          "name": "stdout",
          "text": [
            "(1092, 15)\n",
            "(1092,)\n"
          ]
        },
        {
          "output_type": "execute_result",
          "data": {
            "text/plain": [
              "(None, None)"
            ]
          },
          "metadata": {},
          "execution_count": 60
        }
      ]
    },
    {
      "cell_type": "code",
      "source": [
        "X_test, y_test = create_dataset(test_data, time_step)\n",
        "print(X_test.shape), print(y_test.shape)"
      ],
      "metadata": {
        "colab": {
          "base_uri": "https://localhost:8080/"
        },
        "id": "YfM3YJ_9eeH6",
        "outputId": "1d33996f-c86f-4428-8d14-fdf52541e301"
      },
      "execution_count": 61,
      "outputs": [
        {
          "output_type": "stream",
          "name": "stdout",
          "text": [
            "(261, 15)\n",
            "(261,)\n"
          ]
        },
        {
          "output_type": "execute_result",
          "data": {
            "text/plain": [
              "(None, None)"
            ]
          },
          "metadata": {},
          "execution_count": 61
        }
      ]
    },
    {
      "cell_type": "code",
      "source": [
        "# reshape the inputs to be [sample, time_steps, features] which is required for LSTM\n",
        "X_train = X_train.reshape(X_train.shape[0], X_train.shape[1], 1)\n",
        "X_train.shape"
      ],
      "metadata": {
        "colab": {
          "base_uri": "https://localhost:8080/"
        },
        "id": "nms4I-0vew2N",
        "outputId": "45cd6440-194f-4d44-d085-ece269fbf9ef"
      },
      "execution_count": 64,
      "outputs": [
        {
          "output_type": "execute_result",
          "data": {
            "text/plain": [
              "(1092, 15, 1)"
            ]
          },
          "metadata": {},
          "execution_count": 64
        }
      ]
    },
    {
      "cell_type": "code",
      "source": [
        "X_test = X_test.reshape(X_test.shape[0], X_test.shape[1], 1)\n",
        "X_test.shape"
      ],
      "metadata": {
        "colab": {
          "base_uri": "https://localhost:8080/"
        },
        "id": "3LgMgOJufXrs",
        "outputId": "f186c037-64a8-4594-e6f8-3dfe4cfc3c8d"
      },
      "execution_count": 66,
      "outputs": [
        {
          "output_type": "execute_result",
          "data": {
            "text/plain": [
              "(261, 15, 1)"
            ]
          },
          "metadata": {},
          "execution_count": 66
        }
      ]
    },
    {
      "cell_type": "code",
      "source": [
        "model_0 = Sequential()\n",
        "model_0.add(LSTM(50, return_sequences=True, input_shape=(time_step,1)))\n",
        "model_0.add(LSTM(50, return_sequences=True))\n",
        "model_0.add(LSTM(50))\n",
        "model_0.add(Dense(1))\n",
        "\n",
        "\n",
        "model_0.compile(optimizer='adam', loss='mean_squared_error')"
      ],
      "metadata": {
        "id": "-uh2kofTfeq1"
      },
      "execution_count": 70,
      "outputs": []
    },
    {
      "cell_type": "code",
      "source": [
        "model_0.summary()"
      ],
      "metadata": {
        "colab": {
          "base_uri": "https://localhost:8080/"
        },
        "id": "NYL2YbregJxu",
        "outputId": "97b90806-7db2-4529-9e2b-50852aa110c3"
      },
      "execution_count": 71,
      "outputs": [
        {
          "output_type": "stream",
          "name": "stdout",
          "text": [
            "Model: \"sequential_1\"\n",
            "_________________________________________________________________\n",
            " Layer (type)                Output Shape              Param #   \n",
            "=================================================================\n",
            " lstm_3 (LSTM)               (None, 15, 50)            10400     \n",
            "                                                                 \n",
            " lstm_4 (LSTM)               (None, 15, 50)            20200     \n",
            "                                                                 \n",
            " lstm_5 (LSTM)               (None, 50)                20200     \n",
            "                                                                 \n",
            " dense_1 (Dense)             (None, 1)                 51        \n",
            "                                                                 \n",
            "=================================================================\n",
            "Total params: 50,851\n",
            "Trainable params: 50,851\n",
            "Non-trainable params: 0\n",
            "_________________________________________________________________\n"
          ]
        }
      ]
    },
    {
      "cell_type": "code",
      "source": [
        "history = model_0.fit(X_train, y_train, epochs=100, batch_size=64)"
      ],
      "metadata": {
        "colab": {
          "base_uri": "https://localhost:8080/"
        },
        "id": "FRqyCM8KgOx5",
        "outputId": "faa9116d-3137-4eb8-f974-8edaeeabd304"
      },
      "execution_count": 72,
      "outputs": [
        {
          "output_type": "stream",
          "name": "stdout",
          "text": [
            "Epoch 1/100\n",
            "18/18 [==============================] - 12s 58ms/step - loss: 0.0056\n",
            "Epoch 2/100\n",
            "18/18 [==============================] - 1s 62ms/step - loss: 6.6243e-04\n",
            "Epoch 3/100\n",
            "18/18 [==============================] - 1s 57ms/step - loss: 4.4556e-04\n",
            "Epoch 4/100\n",
            "18/18 [==============================] - 1s 58ms/step - loss: 8.0428e-04\n",
            "Epoch 5/100\n",
            "18/18 [==============================] - 1s 61ms/step - loss: 5.1413e-04\n",
            "Epoch 6/100\n",
            "18/18 [==============================] - 1s 61ms/step - loss: 4.4666e-04\n",
            "Epoch 7/100\n",
            "18/18 [==============================] - 1s 60ms/step - loss: 4.1861e-04\n",
            "Epoch 8/100\n",
            "18/18 [==============================] - 1s 63ms/step - loss: 3.8062e-04\n",
            "Epoch 9/100\n",
            "18/18 [==============================] - 1s 62ms/step - loss: 3.7860e-04\n",
            "Epoch 10/100\n",
            "18/18 [==============================] - 1s 60ms/step - loss: 3.6301e-04\n",
            "Epoch 11/100\n",
            "18/18 [==============================] - 1s 55ms/step - loss: 3.5538e-04\n",
            "Epoch 12/100\n",
            "18/18 [==============================] - 1s 61ms/step - loss: 3.7397e-04\n",
            "Epoch 13/100\n",
            "18/18 [==============================] - 1s 63ms/step - loss: 3.8448e-04\n",
            "Epoch 14/100\n",
            "18/18 [==============================] - 1s 53ms/step - loss: 3.6797e-04\n",
            "Epoch 15/100\n",
            "18/18 [==============================] - 1s 63ms/step - loss: 3.2432e-04\n",
            "Epoch 16/100\n",
            "18/18 [==============================] - 1s 59ms/step - loss: 3.4634e-04\n",
            "Epoch 17/100\n",
            "18/18 [==============================] - 1s 62ms/step - loss: 4.2084e-04\n",
            "Epoch 18/100\n",
            "18/18 [==============================] - 1s 60ms/step - loss: 3.1582e-04\n",
            "Epoch 19/100\n",
            "18/18 [==============================] - 1s 63ms/step - loss: 3.1107e-04\n",
            "Epoch 20/100\n",
            "18/18 [==============================] - 1s 61ms/step - loss: 3.2717e-04\n",
            "Epoch 21/100\n",
            "18/18 [==============================] - 1s 63ms/step - loss: 2.8861e-04\n",
            "Epoch 22/100\n",
            "18/18 [==============================] - 1s 57ms/step - loss: 2.6473e-04\n",
            "Epoch 23/100\n",
            "18/18 [==============================] - 1s 60ms/step - loss: 2.5370e-04\n",
            "Epoch 24/100\n",
            "18/18 [==============================] - 1s 63ms/step - loss: 2.2288e-04\n",
            "Epoch 25/100\n",
            "18/18 [==============================] - 1s 63ms/step - loss: 2.1979e-04\n",
            "Epoch 26/100\n",
            "18/18 [==============================] - 1s 62ms/step - loss: 2.0717e-04\n",
            "Epoch 27/100\n",
            "18/18 [==============================] - 1s 63ms/step - loss: 2.6388e-04\n",
            "Epoch 28/100\n",
            "18/18 [==============================] - 1s 65ms/step - loss: 2.5714e-04\n",
            "Epoch 29/100\n",
            "18/18 [==============================] - 1s 58ms/step - loss: 2.0166e-04\n",
            "Epoch 30/100\n",
            "18/18 [==============================] - 1s 59ms/step - loss: 2.3130e-04\n",
            "Epoch 31/100\n",
            "18/18 [==============================] - 1s 62ms/step - loss: 2.6270e-04\n",
            "Epoch 32/100\n",
            "18/18 [==============================] - 1s 64ms/step - loss: 2.1822e-04\n",
            "Epoch 33/100\n",
            "18/18 [==============================] - 1s 57ms/step - loss: 1.9475e-04\n",
            "Epoch 34/100\n",
            "18/18 [==============================] - 1s 59ms/step - loss: 1.9373e-04\n",
            "Epoch 35/100\n",
            "18/18 [==============================] - 1s 63ms/step - loss: 1.9642e-04\n",
            "Epoch 36/100\n",
            "18/18 [==============================] - 1s 63ms/step - loss: 1.7154e-04\n",
            "Epoch 37/100\n",
            "18/18 [==============================] - 1s 54ms/step - loss: 1.6287e-04\n",
            "Epoch 38/100\n",
            "18/18 [==============================] - 1s 56ms/step - loss: 2.3176e-04\n",
            "Epoch 39/100\n",
            "18/18 [==============================] - 1s 59ms/step - loss: 2.2814e-04\n",
            "Epoch 40/100\n",
            "18/18 [==============================] - 1s 60ms/step - loss: 2.3396e-04\n",
            "Epoch 41/100\n",
            "18/18 [==============================] - 1s 56ms/step - loss: 1.7040e-04\n",
            "Epoch 42/100\n",
            "18/18 [==============================] - 1s 64ms/step - loss: 1.5675e-04\n",
            "Epoch 43/100\n",
            "18/18 [==============================] - 1s 65ms/step - loss: 1.6515e-04\n",
            "Epoch 44/100\n",
            "18/18 [==============================] - 1s 64ms/step - loss: 1.6632e-04\n",
            "Epoch 45/100\n",
            "18/18 [==============================] - 1s 62ms/step - loss: 1.5217e-04\n",
            "Epoch 46/100\n",
            "18/18 [==============================] - 1s 59ms/step - loss: 1.5015e-04\n",
            "Epoch 47/100\n",
            "18/18 [==============================] - 1s 57ms/step - loss: 1.6867e-04\n",
            "Epoch 48/100\n",
            "18/18 [==============================] - 1s 64ms/step - loss: 1.7813e-04\n",
            "Epoch 49/100\n",
            "18/18 [==============================] - 1s 61ms/step - loss: 1.5649e-04\n",
            "Epoch 50/100\n",
            "18/18 [==============================] - 1s 58ms/step - loss: 1.4823e-04\n",
            "Epoch 51/100\n",
            "18/18 [==============================] - 1s 59ms/step - loss: 1.4492e-04\n",
            "Epoch 52/100\n",
            "18/18 [==============================] - 1s 57ms/step - loss: 1.5046e-04\n",
            "Epoch 53/100\n",
            "18/18 [==============================] - 1s 64ms/step - loss: 1.5247e-04\n",
            "Epoch 54/100\n",
            "18/18 [==============================] - 1s 62ms/step - loss: 1.4012e-04\n",
            "Epoch 55/100\n",
            "18/18 [==============================] - 1s 59ms/step - loss: 1.6378e-04\n",
            "Epoch 56/100\n",
            "18/18 [==============================] - 1s 60ms/step - loss: 1.8250e-04\n",
            "Epoch 57/100\n",
            "18/18 [==============================] - 1s 57ms/step - loss: 1.5786e-04\n",
            "Epoch 58/100\n",
            "18/18 [==============================] - 1s 57ms/step - loss: 1.4336e-04\n",
            "Epoch 59/100\n",
            "18/18 [==============================] - 1s 59ms/step - loss: 1.4919e-04\n",
            "Epoch 60/100\n",
            "18/18 [==============================] - 1s 61ms/step - loss: 1.4349e-04\n",
            "Epoch 61/100\n",
            "18/18 [==============================] - 1s 61ms/step - loss: 1.4928e-04\n",
            "Epoch 62/100\n",
            "18/18 [==============================] - 1s 55ms/step - loss: 1.3735e-04\n",
            "Epoch 63/100\n",
            "18/18 [==============================] - 1s 63ms/step - loss: 1.3753e-04\n",
            "Epoch 64/100\n",
            "18/18 [==============================] - 1s 64ms/step - loss: 1.5755e-04\n",
            "Epoch 65/100\n",
            "18/18 [==============================] - 1s 60ms/step - loss: 1.4491e-04\n",
            "Epoch 66/100\n",
            "18/18 [==============================] - 1s 58ms/step - loss: 1.4446e-04\n",
            "Epoch 67/100\n",
            "18/18 [==============================] - 1s 60ms/step - loss: 1.2742e-04\n",
            "Epoch 68/100\n",
            "18/18 [==============================] - 1s 61ms/step - loss: 1.8094e-04\n",
            "Epoch 69/100\n",
            "18/18 [==============================] - 1s 61ms/step - loss: 1.6084e-04\n",
            "Epoch 70/100\n",
            "18/18 [==============================] - 1s 62ms/step - loss: 1.5522e-04\n",
            "Epoch 71/100\n",
            "18/18 [==============================] - 1s 60ms/step - loss: 1.4017e-04\n",
            "Epoch 72/100\n",
            "18/18 [==============================] - 1s 61ms/step - loss: 1.2912e-04\n",
            "Epoch 73/100\n",
            "18/18 [==============================] - 1s 62ms/step - loss: 1.3659e-04\n",
            "Epoch 74/100\n",
            "18/18 [==============================] - 1s 60ms/step - loss: 1.2922e-04\n",
            "Epoch 75/100\n",
            "18/18 [==============================] - 1s 60ms/step - loss: 1.3541e-04\n",
            "Epoch 76/100\n",
            "18/18 [==============================] - 1s 60ms/step - loss: 1.9204e-04\n",
            "Epoch 77/100\n",
            "18/18 [==============================] - 1s 59ms/step - loss: 1.3423e-04\n",
            "Epoch 78/100\n",
            "18/18 [==============================] - 1s 63ms/step - loss: 1.3386e-04\n",
            "Epoch 79/100\n",
            "18/18 [==============================] - 1s 66ms/step - loss: 1.2611e-04\n",
            "Epoch 80/100\n",
            "18/18 [==============================] - 1s 57ms/step - loss: 1.2387e-04\n",
            "Epoch 81/100\n",
            "18/18 [==============================] - 1s 63ms/step - loss: 1.1158e-04\n",
            "Epoch 82/100\n",
            "18/18 [==============================] - 1s 62ms/step - loss: 1.5911e-04\n",
            "Epoch 83/100\n",
            "18/18 [==============================] - 1s 62ms/step - loss: 1.1802e-04\n",
            "Epoch 84/100\n",
            "18/18 [==============================] - 1s 64ms/step - loss: 1.3371e-04\n",
            "Epoch 85/100\n",
            "18/18 [==============================] - 1s 64ms/step - loss: 1.6795e-04\n",
            "Epoch 86/100\n",
            "18/18 [==============================] - 1s 61ms/step - loss: 1.5820e-04\n",
            "Epoch 87/100\n",
            "18/18 [==============================] - 2s 93ms/step - loss: 1.7713e-04\n",
            "Epoch 88/100\n",
            "18/18 [==============================] - 1s 81ms/step - loss: 1.3317e-04\n",
            "Epoch 89/100\n",
            "18/18 [==============================] - 1s 63ms/step - loss: 1.2278e-04\n",
            "Epoch 90/100\n",
            "18/18 [==============================] - 1s 60ms/step - loss: 1.1457e-04\n",
            "Epoch 91/100\n",
            "18/18 [==============================] - 1s 57ms/step - loss: 1.1321e-04\n",
            "Epoch 92/100\n",
            "18/18 [==============================] - 1s 64ms/step - loss: 1.1149e-04\n",
            "Epoch 93/100\n",
            "18/18 [==============================] - 1s 66ms/step - loss: 1.0698e-04\n",
            "Epoch 94/100\n",
            "18/18 [==============================] - 1s 61ms/step - loss: 1.0974e-04\n",
            "Epoch 95/100\n",
            "18/18 [==============================] - 1s 60ms/step - loss: 1.1838e-04\n",
            "Epoch 96/100\n",
            "18/18 [==============================] - 1s 49ms/step - loss: 1.1097e-04\n",
            "Epoch 97/100\n",
            "18/18 [==============================] - 1s 69ms/step - loss: 1.0246e-04\n",
            "Epoch 98/100\n",
            "18/18 [==============================] - 1s 79ms/step - loss: 1.7369e-04\n",
            "Epoch 99/100\n",
            "18/18 [==============================] - 1s 73ms/step - loss: 1.1572e-04\n",
            "Epoch 100/100\n",
            "18/18 [==============================] - 1s 71ms/step - loss: 1.3072e-04\n"
          ]
        }
      ]
    },
    {
      "cell_type": "code",
      "source": [
        "train_predict = model_0.predict(X_train)\n",
        "test_predict = model_0.predict(X_test)"
      ],
      "metadata": {
        "id": "Vj8w2uXygtKp"
      },
      "execution_count": 74,
      "outputs": []
    },
    {
      "cell_type": "code",
      "source": [
        "train_predict = scaler.inverse_transform(train_predict)\n",
        "test_predict = scaler.inverse_transform(test_predict)"
      ],
      "metadata": {
        "id": "W80xKHhDnj5Q"
      },
      "execution_count": 89,
      "outputs": []
    },
    {
      "cell_type": "code",
      "source": [
        "from sklearn.metrics import mean_squared_error\n",
        "math.sqrt(mean_squared_error(y_train, train_predict))"
      ],
      "metadata": {
        "colab": {
          "base_uri": "https://localhost:8080/"
        },
        "id": "MrfBMM4rhf_a",
        "outputId": "cac05acc-3010-427f-c553-ad6debf54ca2"
      },
      "execution_count": 90,
      "outputs": [
        {
          "output_type": "execute_result",
          "data": {
            "text/plain": [
              "10390.782498227823"
            ]
          },
          "metadata": {},
          "execution_count": 90
        }
      ]
    },
    {
      "cell_type": "code",
      "source": [
        "math.sqrt(mean_squared_error(y_test, test_predict))"
      ],
      "metadata": {
        "colab": {
          "base_uri": "https://localhost:8080/"
        },
        "id": "P-FcgJq7i3Cp",
        "outputId": "52508c99-191c-45ab-92ba-3bc643e30524"
      },
      "execution_count": 91,
      "outputs": [
        {
          "output_type": "execute_result",
          "data": {
            "text/plain": [
              "38317.85853867072"
            ]
          },
          "metadata": {},
          "execution_count": 91
        }
      ]
    },
    {
      "cell_type": "code",
      "source": [
        "# shift train predictions for plotting\n",
        "look_back = 15\n",
        "plt.figure(figsize=(15,12))\n",
        "trainPredictPlot = np.empty_like(df1)\n",
        "trainPredictPlot[:, :] = np.nan\n",
        "trainPredictPlot[look_back: len(train_predict) + look_back, :] = train_predict\n",
        "# shift test predictions for plotting\n",
        "testPredictPlot = np.empty_like(df1)\n",
        "testPredictPlot[:, :] = np.nan\n",
        "testPredictPlot[len(train_predict)+(look_back*2)+1:len(df1)-1, :] = test_predict\n",
        "# plot baseline and predictions\n",
        "plt.plot(scaler.inverse_transform(df1))\n",
        "plt.plot(trainPredictPlot)\n",
        "plt.plot(testPredictPlot)\n",
        "plt.show()"
      ],
      "metadata": {
        "colab": {
          "base_uri": "https://localhost:8080/",
          "height": 768
        },
        "id": "_rRY9g3Rj3d2",
        "outputId": "10a79ab7-47c8-465a-ef30-662a69ac1256"
      },
      "execution_count": 93,
      "outputs": [
        {
          "output_type": "display_data",
          "data": {
            "image/png": "[encoded data removed]",
            "text/plain": [
              "<Figure size 1080x864 with 1 Axes>"
            ]
          },
          "metadata": {}
        }
      ]
    },
    {
      "cell_type": "code",
      "source": [
        ""
      ],
      "metadata": {
        "id": "wbcUov3plhJr"
      },
      "execution_count": null,
      "outputs": []
    }
  ]
}